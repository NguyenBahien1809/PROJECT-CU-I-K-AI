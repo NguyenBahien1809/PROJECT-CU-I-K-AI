{
  "nbformat": 4,
  "nbformat_minor": 0,
  "metadata": {
    "colab": {
      "name": "rice_leaf_official",
      "provenance": [],
      "collapsed_sections": []
    },
    "kernelspec": {
      "name": "python3",
      "display_name": "Python 3"
    },
    "language_info": {
      "name": "python"
    },
    "accelerator": "GPU",
    "gpuClass": "standard"
  },
  "cells": [
    {
      "cell_type": "markdown",
      "source": [
        "**KHAI BÁO THƯ VIỆN**"
      ],
      "metadata": {
        "id": "up7ZmOIrs59b"
      }
    },
    {
      "cell_type": "code",
      "execution_count": 1,
      "metadata": {
        "id": "imoAFOa6O26Z"
      },
      "outputs": [],
      "source": [
        "import numpy as np\n",
        "import pandas as pd\n",
        "#import os\n",
        "import matplotlib.pyplot as plt\n",
        "#import cv2\n",
        "import tensorflow as tf\n",
        "from tensorflow import keras\n",
        "from tensorflow.keras import Sequential \n",
        "from tensorflow.keras.preprocessing.image import ImageDataGenerator\n",
        "from tensorflow.keras.layers import Dense, Activation,Dropout,Conv2D, MaxPooling2D,BatchNormalization,Flatten\n",
        "from tensorflow.keras.optimizers import Adam\n",
        "from tensorflow.keras.metrics import categorical_crossentropy\n",
        "from tensorflow.keras import regularizers\n",
        "from tensorflow.keras.models import Model\n",
        "from tensorflow.keras.layers import GlobalAveragePooling2D, Dense, Dropout\n",
        "from tensorflow.keras.models import Model\n"
      ]
    },
    {
      "cell_type": "markdown",
      "source": [
        "**Mount với drive**\n",
        "\n"
      ],
      "metadata": {
        "id": "acDOI4qaukQR"
      }
    },
    {
      "cell_type": "code",
      "source": [
        "\n",
        "from google.colab import drive\n",
        "drive.mount('/content/drive/')\n"
      ],
      "metadata": {
        "colab": {
          "base_uri": "https://localhost:8080/"
        },
        "id": "FIl5YGnemBbx",
        "outputId": "ae3decf7-b733-4125-da84-5e070078efa2"
      },
      "execution_count": 2,
      "outputs": [
        {
          "output_type": "stream",
          "name": "stdout",
          "text": [
            "Mounted at /content/drive/\n"
          ]
        }
      ]
    },
    {
      "cell_type": "markdown",
      "source": [
        "**CHIA TẬP DỮ LIỆU THÀNH TẬP TRAIN, TEST VÀ VALIDATION**\n"
      ],
      "metadata": {
        "id": "auXSblSSu3wJ"
      }
    },
    {
      "cell_type": "code",
      "source": [
        "TRAIN_PATH='/content/drive/MyDrive/DỮ LIỆU_PROJECT_AI_CUỐI_KÌ_official/DATASETS_project_AI_cuối_kì/DATASETS_project_AI_cuối_kì/train_rice-leaf-disease'\n",
        "TEST_PATH='/content/drive/MyDrive/DỮ LIỆU_PROJECT_AI_CUỐI_KÌ_official/DATASETS_project_AI_cuối_kì/DATASETS_project_AI_cuối_kì/test_rice-leaf-disease'\n",
        "IMAGE_SIZE=(64,64)\n",
        "BATCH_SIZE=128 #128 bo loc\n",
        "VALIDATE_PATH='/content/drive/MyDrive/DỮ LIỆU_PROJECT_AI_CUỐI_KÌ_official/DATASETS_project_AI_cuối_kì/DATASETS_project_AI_cuối_kì/valid_rice-leaf-disease'\n",
        "class_count=4"
      ],
      "metadata": {
        "id": "U7zO2P-9PVCJ"
      },
      "execution_count": 3,
      "outputs": []
    },
    {
      "cell_type": "markdown",
      "source": [
        "**XỬ LÍ DỮ LIỆU BẰNG CÁCH RESCALE, XOAY, PHÓNG TO,..**"
      ],
      "metadata": {
        "id": "O6ESeam_vEAv"
      }
    },
    {
      "cell_type": "code",
      "source": [
        "train_generator = ImageDataGenerator(\n",
        "    rescale = 1./255,\n",
        "    rotation_range = 40, \n",
        "    width_shift_range = 0.2, \n",
        "    height_shift_range = 0.2,\n",
        "    shear_range = 0.2,\n",
        "    zoom_range = 0.2,\n",
        "    horizontal_flip = True)\n",
        "\n",
        "validate_generator = ImageDataGenerator(rescale=1./255)\n",
        "test_generator = ImageDataGenerator(rescale=1./255)\n",
        "\n",
        "train_data = train_generator.flow_from_directory(TRAIN_PATH, target_size=IMAGE_SIZE, batch_size=BATCH_SIZE)\n",
        "validate_data = validate_generator.flow_from_directory(VALIDATE_PATH, target_size=IMAGE_SIZE, batch_size=BATCH_SIZE)\n",
        "test_data = test_generator.flow_from_directory(TEST_PATH, target_size=IMAGE_SIZE)"
      ],
      "metadata": {
        "id": "BQM4YSVrPXEP",
        "colab": {
          "base_uri": "https://localhost:8080/"
        },
        "outputId": "301716b0-c4dd-4ecb-8905-0d7e378a9df2"
      },
      "execution_count": 4,
      "outputs": [
        {
          "output_type": "stream",
          "name": "stdout",
          "text": [
            "Found 3172 images belonging to 4 classes.\n",
            "Found 800 images belonging to 4 classes.\n",
            "Found 32 images belonging to 4 classes.\n"
          ]
        }
      ]
    },
    {
      "cell_type": "markdown",
      "source": [
        "**GẮN NHÃN PHÂN LỚP CHO DỮ LIỆU**"
      ],
      "metadata": {
        "id": "KYb7qPudvVFL"
      }
    },
    {
      "cell_type": "code",
      "source": [
        "classes=list(train_data.class_indices.keys())\n",
        "print(f'classes:{classes} \\r')\n",
        "class_indices=list(train_data.class_indices.values())\n",
        "print(f'class_indices:{class_indices}')\n",
        "labels=test_data.labels\n",
        "print(f'label :{labels}')"
      ],
      "metadata": {
        "id": "TckIUhw8PZ-n",
        "colab": {
          "base_uri": "https://localhost:8080/"
        },
        "outputId": "53f1b069-564b-4b09-ad39-72818d5e7c55"
      },
      "execution_count": 5,
      "outputs": [
        {
          "output_type": "stream",
          "name": "stdout",
          "text": [
            "classes:['bacterial', 'brown spot', 'healthy', 'leaf smut'] \r\n",
            "class_indices:[0, 1, 2, 3]\n",
            "label :[0 0 0 0 0 0 0 0 1 1 1 1 1 1 1 1 2 2 2 2 2 2 2 2 3 3 3 3 3 3 3 3]\n"
          ]
        }
      ]
    },
    {
      "cell_type": "markdown",
      "source": [
        "**CREATE MODEL BẰNG CNN VÀ BIÊN DỊCH MODEL**"
      ],
      "metadata": {
        "id": "JuS1Op5_vm0Y"
      }
    },
    {
      "cell_type": "code",
      "source": [
        "\n",
        "model = Sequential()\n",
        "\n",
        "## Layer 1\n",
        "model.add(Conv2D(128, kernel_size = (3, 3), activation = \"relu\", \n",
        "                    kernel_initializer = \"he_uniform\", padding = \"valid\", input_shape = (64, 64, 3)))\n",
        "model.add(MaxPooling2D(pool_size = (3, 3), ))\n",
        "model.add(BatchNormalization())\n",
        "\n",
        "## Layer 2\n",
        "model.add(Conv2D(256, padding = \"same\", kernel_size = (5, 5), activation = \"relu\", \n",
        "                    kernel_initializer = \"he_uniform\"))\n",
        "model.add(MaxPooling2D(pool_size = (3, 3)))\n",
        "model.add(BatchNormalization())\n",
        "\n",
        "## Layer 3\n",
        "model.add(Conv2D(384, kernel_size = (3, 3), activation = \"relu\", kernel_initializer = \"he_uniform\", \n",
        "                    padding = \"same\"))\n",
        "model.add(BatchNormalization())\n",
        "\n",
        "## Layer 5 \n",
        "model.add(Conv2D(512, kernel_size = (3, 3), activation = \"relu\", kernel_initializer = \"he_uniform\", \n",
        "                    padding = \"same\"))\n",
        "model.add(BatchNormalization())\n",
        "\n",
        "## Layer 6 \n",
        "model.add(Conv2D(256, kernel_size = (3, 3), activation = \"relu\", kernel_initializer = \"he_uniform\", \n",
        "                    padding = \"same\"))\n",
        "model.add(MaxPooling2D(pool_size = (2, 2), ))\n",
        "\n",
        "\n",
        "## Flatten the Model and Connect it \n",
        "# To Connected Layer \n",
        "model.add(Flatten())\n",
        "model.add(Dense(2048, activation = \"relu\", kernel_initializer = \"he_uniform\"))\n",
        "model.add(Dropout(0.3))\n",
        "\n",
        "## Dense 2 \n",
        "model.add(Dense(1024, kernel_initializer = \"he_uniform\", activation = \"relu\"))\n",
        "model.add(Dropout(0.3))\n",
        "model.add(BatchNormalization())\n",
        "\n",
        "## Dense 3 \n",
        "model.add(Dense(512, kernel_initializer = \"he_uniform\", activation = \"relu\"))\n",
        "model.add(Dropout(0.3))\n",
        "model.add(BatchNormalization())\n",
        "## Dense 4\n",
        "model.add(Dense(256, kernel_initializer = \"he_uniform\", activation = \"relu\"))\n",
        "model.add(Dropout(0.3))\n",
        "model.add(BatchNormalization())\n",
        "\n",
        "## Output Layer\n",
        "model.add(Dense(4, activation = \"softmax\"))\n",
        "\n",
        "#Compile Model and Get the Summary \n",
        "model.compile(optimizer = \"adam\", loss = \"categorical_crossentropy\", metrics = [\"accuracy\"])\n",
        "\n",
        "model.summary()"
      ],
      "metadata": {
        "id": "821ykNlRPbi_",
        "colab": {
          "base_uri": "https://localhost:8080/"
        },
        "outputId": "9676b6a3-0138-480f-f7c6-a210d77043fd"
      },
      "execution_count": 6,
      "outputs": [
        {
          "output_type": "stream",
          "name": "stdout",
          "text": [
            "Model: \"sequential\"\n",
            "_________________________________________________________________\n",
            " Layer (type)                Output Shape              Param #   \n",
            "=================================================================\n",
            " conv2d (Conv2D)             (None, 62, 62, 128)       3584      \n",
            "                                                                 \n",
            " max_pooling2d (MaxPooling2D  (None, 20, 20, 128)      0         \n",
            " )                                                               \n",
            "                                                                 \n",
            " batch_normalization (BatchN  (None, 20, 20, 128)      512       \n",
            " ormalization)                                                   \n",
            "                                                                 \n",
            " conv2d_1 (Conv2D)           (None, 20, 20, 256)       819456    \n",
            "                                                                 \n",
            " max_pooling2d_1 (MaxPooling  (None, 6, 6, 256)        0         \n",
            " 2D)                                                             \n",
            "                                                                 \n",
            " batch_normalization_1 (Batc  (None, 6, 6, 256)        1024      \n",
            " hNormalization)                                                 \n",
            "                                                                 \n",
            " conv2d_2 (Conv2D)           (None, 6, 6, 384)         885120    \n",
            "                                                                 \n",
            " batch_normalization_2 (Batc  (None, 6, 6, 384)        1536      \n",
            " hNormalization)                                                 \n",
            "                                                                 \n",
            " conv2d_3 (Conv2D)           (None, 6, 6, 512)         1769984   \n",
            "                                                                 \n",
            " batch_normalization_3 (Batc  (None, 6, 6, 512)        2048      \n",
            " hNormalization)                                                 \n",
            "                                                                 \n",
            " conv2d_4 (Conv2D)           (None, 6, 6, 256)         1179904   \n",
            "                                                                 \n",
            " max_pooling2d_2 (MaxPooling  (None, 3, 3, 256)        0         \n",
            " 2D)                                                             \n",
            "                                                                 \n",
            " flatten (Flatten)           (None, 2304)              0         \n",
            "                                                                 \n",
            " dense (Dense)               (None, 2048)              4720640   \n",
            "                                                                 \n",
            " dropout (Dropout)           (None, 2048)              0         \n",
            "                                                                 \n",
            " dense_1 (Dense)             (None, 1024)              2098176   \n",
            "                                                                 \n",
            " dropout_1 (Dropout)         (None, 1024)              0         \n",
            "                                                                 \n",
            " batch_normalization_4 (Batc  (None, 1024)             4096      \n",
            " hNormalization)                                                 \n",
            "                                                                 \n",
            " dense_2 (Dense)             (None, 512)               524800    \n",
            "                                                                 \n",
            " dropout_2 (Dropout)         (None, 512)               0         \n",
            "                                                                 \n",
            " batch_normalization_5 (Batc  (None, 512)              2048      \n",
            " hNormalization)                                                 \n",
            "                                                                 \n",
            " dense_3 (Dense)             (None, 256)               131328    \n",
            "                                                                 \n",
            " dropout_3 (Dropout)         (None, 256)               0         \n",
            "                                                                 \n",
            " batch_normalization_6 (Batc  (None, 256)              1024      \n",
            " hNormalization)                                                 \n",
            "                                                                 \n",
            " dense_4 (Dense)             (None, 4)                 1028      \n",
            "                                                                 \n",
            "=================================================================\n",
            "Total params: 12,146,308\n",
            "Trainable params: 12,140,164\n",
            "Non-trainable params: 6,144\n",
            "_________________________________________________________________\n"
          ]
        }
      ]
    },
    {
      "cell_type": "markdown",
      "source": [
        "**TRAIN MODEL ĐÃ TẠO VỚI 150 LẦN**"
      ],
      "metadata": {
        "id": "cdrCjNEEv1da"
      }
    },
    {
      "cell_type": "code",
      "source": [
        "# train the model\n",
        "epochs=150\n",
        "history = model.fit(train_data,batch_size=65,epochs=epochs,validation_data=validate_data,verbose=1,shuffle=True)"
      ],
      "metadata": {
        "id": "ACUIkz7lPeqh",
        "colab": {
          "base_uri": "https://localhost:8080/"
        },
        "outputId": "36a7a1e9-f404-4219-d61a-c51e569fc861"
      },
      "execution_count": 7,
      "outputs": [
        {
          "output_type": "stream",
          "name": "stdout",
          "text": [
            "Epoch 1/150\n",
            "25/25 [==============================] - 854s 34s/step - loss: 0.5726 - accuracy: 0.7689 - val_loss: 331.9978 - val_accuracy: 0.2500\n",
            "Epoch 2/150\n",
            "25/25 [==============================] - 9s 374ms/step - loss: 0.0979 - accuracy: 0.9672 - val_loss: 148.6738 - val_accuracy: 0.2500\n",
            "Epoch 3/150\n",
            "25/25 [==============================] - 9s 376ms/step - loss: 0.0424 - accuracy: 0.9871 - val_loss: 60.2364 - val_accuracy: 0.2500\n",
            "Epoch 4/150\n",
            "25/25 [==============================] - 10s 387ms/step - loss: 0.0221 - accuracy: 0.9918 - val_loss: 25.4681 - val_accuracy: 0.2500\n",
            "Epoch 5/150\n",
            "25/25 [==============================] - 10s 392ms/step - loss: 0.0233 - accuracy: 0.9909 - val_loss: 11.7333 - val_accuracy: 0.2562\n",
            "Epoch 6/150\n",
            "25/25 [==============================] - 10s 380ms/step - loss: 0.0282 - accuracy: 0.9915 - val_loss: 12.2271 - val_accuracy: 0.2612\n",
            "Epoch 7/150\n",
            "25/25 [==============================] - 9s 376ms/step - loss: 0.0262 - accuracy: 0.9902 - val_loss: 1.6154 - val_accuracy: 0.6988\n",
            "Epoch 8/150\n",
            "25/25 [==============================] - 9s 376ms/step - loss: 0.0466 - accuracy: 0.9855 - val_loss: 2.5308 - val_accuracy: 0.5850\n",
            "Epoch 9/150\n",
            "25/25 [==============================] - 9s 376ms/step - loss: 0.0424 - accuracy: 0.9874 - val_loss: 1.3721 - val_accuracy: 0.7138\n",
            "Epoch 10/150\n",
            "25/25 [==============================] - 9s 377ms/step - loss: 0.0181 - accuracy: 0.9956 - val_loss: 1.0217 - val_accuracy: 0.7487\n",
            "Epoch 11/150\n",
            "25/25 [==============================] - 9s 378ms/step - loss: 0.0192 - accuracy: 0.9927 - val_loss: 1.1638 - val_accuracy: 0.6875\n",
            "Epoch 12/150\n",
            "25/25 [==============================] - 9s 378ms/step - loss: 0.0160 - accuracy: 0.9946 - val_loss: 0.6474 - val_accuracy: 0.7962\n",
            "Epoch 13/150\n",
            "25/25 [==============================] - 10s 410ms/step - loss: 0.0165 - accuracy: 0.9943 - val_loss: 0.9705 - val_accuracy: 0.7150\n",
            "Epoch 14/150\n",
            "25/25 [==============================] - 9s 373ms/step - loss: 0.0135 - accuracy: 0.9946 - val_loss: 0.5808 - val_accuracy: 0.8100\n",
            "Epoch 15/150\n",
            "25/25 [==============================] - 10s 381ms/step - loss: 0.0165 - accuracy: 0.9937 - val_loss: 0.2702 - val_accuracy: 0.9175\n",
            "Epoch 16/150\n",
            "25/25 [==============================] - 9s 376ms/step - loss: 0.0059 - accuracy: 0.9981 - val_loss: 0.0435 - val_accuracy: 0.9900\n",
            "Epoch 17/150\n",
            "25/25 [==============================] - 9s 377ms/step - loss: 0.0108 - accuracy: 0.9968 - val_loss: 0.6618 - val_accuracy: 0.8300\n",
            "Epoch 18/150\n",
            "25/25 [==============================] - 9s 378ms/step - loss: 0.0135 - accuracy: 0.9956 - val_loss: 0.1774 - val_accuracy: 0.9425\n",
            "Epoch 19/150\n",
            "25/25 [==============================] - 10s 381ms/step - loss: 0.0301 - accuracy: 0.9893 - val_loss: 0.0457 - val_accuracy: 0.9862\n",
            "Epoch 20/150\n",
            "25/25 [==============================] - 9s 377ms/step - loss: 0.0147 - accuracy: 0.9943 - val_loss: 0.1251 - val_accuracy: 0.9613\n",
            "Epoch 21/150\n",
            "25/25 [==============================] - 9s 379ms/step - loss: 0.0189 - accuracy: 0.9946 - val_loss: 0.0074 - val_accuracy: 0.9962\n",
            "Epoch 22/150\n",
            "25/25 [==============================] - 9s 374ms/step - loss: 0.0197 - accuracy: 0.9953 - val_loss: 0.0514 - val_accuracy: 0.9900\n",
            "Epoch 23/150\n",
            "25/25 [==============================] - 9s 375ms/step - loss: 0.0085 - accuracy: 0.9975 - val_loss: 0.1263 - val_accuracy: 0.9550\n",
            "Epoch 24/150\n",
            "25/25 [==============================] - 9s 377ms/step - loss: 0.0059 - accuracy: 0.9975 - val_loss: 0.0260 - val_accuracy: 0.9900\n",
            "Epoch 25/150\n",
            "25/25 [==============================] - 9s 374ms/step - loss: 0.0077 - accuracy: 0.9975 - val_loss: 0.2320 - val_accuracy: 0.9425\n",
            "Epoch 26/150\n",
            "25/25 [==============================] - 9s 373ms/step - loss: 0.0115 - accuracy: 0.9962 - val_loss: 0.1741 - val_accuracy: 0.9300\n",
            "Epoch 27/150\n",
            "25/25 [==============================] - 9s 374ms/step - loss: 0.0048 - accuracy: 0.9978 - val_loss: 0.1387 - val_accuracy: 0.9563\n",
            "Epoch 28/150\n",
            "25/25 [==============================] - 9s 375ms/step - loss: 0.0146 - accuracy: 0.9940 - val_loss: 0.0787 - val_accuracy: 0.9900\n",
            "Epoch 29/150\n",
            "25/25 [==============================] - 9s 375ms/step - loss: 0.0096 - accuracy: 0.9972 - val_loss: 0.0499 - val_accuracy: 0.9912\n",
            "Epoch 30/150\n",
            "25/25 [==============================] - 9s 373ms/step - loss: 0.0031 - accuracy: 0.9991 - val_loss: 0.0316 - val_accuracy: 0.9900\n",
            "Epoch 31/150\n",
            "25/25 [==============================] - 9s 375ms/step - loss: 0.0022 - accuracy: 0.9997 - val_loss: 0.0339 - val_accuracy: 0.9900\n",
            "Epoch 32/150\n",
            "25/25 [==============================] - 9s 375ms/step - loss: 0.0018 - accuracy: 0.9994 - val_loss: 0.0437 - val_accuracy: 0.9900\n",
            "Epoch 33/150\n",
            "25/25 [==============================] - 9s 377ms/step - loss: 0.0044 - accuracy: 0.9987 - val_loss: 0.0150 - val_accuracy: 0.9975\n",
            "Epoch 34/150\n",
            "25/25 [==============================] - 9s 378ms/step - loss: 0.0109 - accuracy: 0.9975 - val_loss: 0.0074 - val_accuracy: 0.9975\n",
            "Epoch 35/150\n",
            "25/25 [==============================] - 9s 373ms/step - loss: 0.0250 - accuracy: 0.9905 - val_loss: 0.3281 - val_accuracy: 0.9212\n",
            "Epoch 36/150\n",
            "25/25 [==============================] - 9s 375ms/step - loss: 0.0311 - accuracy: 0.9918 - val_loss: 2.2958 - val_accuracy: 0.7138\n",
            "Epoch 37/150\n",
            "25/25 [==============================] - 10s 386ms/step - loss: 0.0202 - accuracy: 0.9924 - val_loss: 0.3687 - val_accuracy: 0.9337\n",
            "Epoch 38/150\n",
            "25/25 [==============================] - 10s 381ms/step - loss: 0.0217 - accuracy: 0.9940 - val_loss: 0.0665 - val_accuracy: 0.9875\n",
            "Epoch 39/150\n",
            "25/25 [==============================] - 9s 376ms/step - loss: 0.0152 - accuracy: 0.9953 - val_loss: 0.0694 - val_accuracy: 0.9975\n",
            "Epoch 40/150\n",
            "25/25 [==============================] - 9s 379ms/step - loss: 0.0055 - accuracy: 0.9984 - val_loss: 0.0674 - val_accuracy: 0.9975\n",
            "Epoch 41/150\n",
            "25/25 [==============================] - 9s 378ms/step - loss: 0.0026 - accuracy: 0.9991 - val_loss: 0.0598 - val_accuracy: 0.9975\n",
            "Epoch 42/150\n",
            "25/25 [==============================] - 9s 376ms/step - loss: 0.0013 - accuracy: 0.9997 - val_loss: 0.0524 - val_accuracy: 0.9975\n",
            "Epoch 43/150\n",
            "25/25 [==============================] - 10s 381ms/step - loss: 0.0019 - accuracy: 0.9994 - val_loss: 0.0508 - val_accuracy: 0.9937\n",
            "Epoch 44/150\n",
            "25/25 [==============================] - 10s 411ms/step - loss: 0.0073 - accuracy: 0.9978 - val_loss: 0.0969 - val_accuracy: 0.9837\n",
            "Epoch 45/150\n",
            "25/25 [==============================] - 9s 374ms/step - loss: 0.0057 - accuracy: 0.9984 - val_loss: 0.3210 - val_accuracy: 0.9287\n",
            "Epoch 46/150\n",
            "25/25 [==============================] - 9s 379ms/step - loss: 0.0084 - accuracy: 0.9978 - val_loss: 0.0835 - val_accuracy: 0.9812\n",
            "Epoch 47/150\n",
            "25/25 [==============================] - 9s 371ms/step - loss: 0.0081 - accuracy: 0.9972 - val_loss: 0.0209 - val_accuracy: 0.9925\n",
            "Epoch 48/150\n",
            "25/25 [==============================] - 9s 372ms/step - loss: 0.0021 - accuracy: 0.9994 - val_loss: 0.0145 - val_accuracy: 0.9950\n",
            "Epoch 49/150\n",
            "25/25 [==============================] - 9s 372ms/step - loss: 0.0062 - accuracy: 0.9984 - val_loss: 0.4754 - val_accuracy: 0.9013\n",
            "Epoch 50/150\n",
            "25/25 [==============================] - 10s 382ms/step - loss: 0.0059 - accuracy: 0.9981 - val_loss: 0.0159 - val_accuracy: 0.9912\n",
            "Epoch 51/150\n",
            "25/25 [==============================] - 9s 374ms/step - loss: 0.0037 - accuracy: 0.9984 - val_loss: 0.0131 - val_accuracy: 0.9962\n",
            "Epoch 52/150\n",
            "25/25 [==============================] - 9s 376ms/step - loss: 0.0048 - accuracy: 0.9987 - val_loss: 0.0098 - val_accuracy: 0.9962\n",
            "Epoch 53/150\n",
            "25/25 [==============================] - 9s 374ms/step - loss: 0.0023 - accuracy: 0.9994 - val_loss: 0.0223 - val_accuracy: 0.9925\n",
            "Epoch 54/150\n",
            "25/25 [==============================] - 9s 374ms/step - loss: 0.0024 - accuracy: 0.9997 - val_loss: 0.0122 - val_accuracy: 0.9975\n",
            "Epoch 55/150\n",
            "25/25 [==============================] - 9s 375ms/step - loss: 0.0048 - accuracy: 0.9981 - val_loss: 0.0154 - val_accuracy: 0.9937\n",
            "Epoch 56/150\n",
            "25/25 [==============================] - 9s 372ms/step - loss: 0.0034 - accuracy: 0.9991 - val_loss: 0.0312 - val_accuracy: 0.9862\n",
            "Epoch 57/150\n",
            "25/25 [==============================] - 9s 378ms/step - loss: 0.0080 - accuracy: 0.9978 - val_loss: 0.0195 - val_accuracy: 0.9912\n",
            "Epoch 58/150\n",
            "25/25 [==============================] - 9s 375ms/step - loss: 0.0052 - accuracy: 0.9991 - val_loss: 0.0232 - val_accuracy: 0.9887\n",
            "Epoch 59/150\n",
            "25/25 [==============================] - 9s 379ms/step - loss: 0.0010 - accuracy: 0.9997 - val_loss: 0.0086 - val_accuracy: 0.9950\n",
            "Epoch 60/150\n",
            "25/25 [==============================] - 9s 379ms/step - loss: 0.0060 - accuracy: 0.9984 - val_loss: 0.0103 - val_accuracy: 0.9950\n",
            "Epoch 61/150\n",
            "25/25 [==============================] - 9s 373ms/step - loss: 2.6584e-04 - accuracy: 1.0000 - val_loss: 0.0124 - val_accuracy: 0.9925\n",
            "Epoch 62/150\n",
            "25/25 [==============================] - 9s 377ms/step - loss: 0.0021 - accuracy: 0.9991 - val_loss: 0.0469 - val_accuracy: 0.9850\n",
            "Epoch 63/150\n",
            "25/25 [==============================] - 10s 381ms/step - loss: 0.0024 - accuracy: 0.9987 - val_loss: 0.0544 - val_accuracy: 0.9887\n",
            "Epoch 64/150\n",
            "25/25 [==============================] - 9s 376ms/step - loss: 0.0119 - accuracy: 0.9959 - val_loss: 1.7208 - val_accuracy: 0.7525\n",
            "Epoch 65/150\n",
            "25/25 [==============================] - 9s 371ms/step - loss: 0.0097 - accuracy: 0.9972 - val_loss: 0.0031 - val_accuracy: 0.9975\n",
            "Epoch 66/150\n",
            "25/25 [==============================] - 9s 377ms/step - loss: 0.0024 - accuracy: 0.9994 - val_loss: 0.0017 - val_accuracy: 0.9987\n",
            "Epoch 67/150\n",
            "25/25 [==============================] - 9s 377ms/step - loss: 0.0062 - accuracy: 0.9984 - val_loss: 0.0074 - val_accuracy: 0.9975\n",
            "Epoch 68/150\n",
            "25/25 [==============================] - 9s 379ms/step - loss: 0.0038 - accuracy: 0.9984 - val_loss: 0.0021 - val_accuracy: 0.9987\n",
            "Epoch 69/150\n",
            "25/25 [==============================] - 10s 386ms/step - loss: 6.7560e-04 - accuracy: 1.0000 - val_loss: 0.0033 - val_accuracy: 0.9975\n",
            "Epoch 70/150\n",
            "25/25 [==============================] - 10s 384ms/step - loss: 0.0017 - accuracy: 0.9997 - val_loss: 2.6920e-04 - val_accuracy: 1.0000\n",
            "Epoch 71/150\n",
            "25/25 [==============================] - 9s 378ms/step - loss: 0.0026 - accuracy: 0.9994 - val_loss: 6.7763e-04 - val_accuracy: 1.0000\n",
            "Epoch 72/150\n",
            "25/25 [==============================] - 9s 375ms/step - loss: 0.0056 - accuracy: 0.9984 - val_loss: 0.0450 - val_accuracy: 0.9887\n",
            "Epoch 73/150\n",
            "25/25 [==============================] - 9s 377ms/step - loss: 0.0027 - accuracy: 0.9997 - val_loss: 0.0051 - val_accuracy: 0.9975\n",
            "Epoch 74/150\n",
            "25/25 [==============================] - 9s 377ms/step - loss: 0.0051 - accuracy: 0.9984 - val_loss: 0.0110 - val_accuracy: 0.9975\n",
            "Epoch 75/150\n",
            "25/25 [==============================] - 9s 373ms/step - loss: 0.0076 - accuracy: 0.9972 - val_loss: 0.3971 - val_accuracy: 0.9413\n",
            "Epoch 76/150\n",
            "25/25 [==============================] - 10s 412ms/step - loss: 0.0066 - accuracy: 0.9981 - val_loss: 0.1297 - val_accuracy: 0.9850\n",
            "Epoch 77/150\n",
            "25/25 [==============================] - 9s 378ms/step - loss: 0.0040 - accuracy: 0.9991 - val_loss: 0.0730 - val_accuracy: 0.9800\n",
            "Epoch 78/150\n",
            "25/25 [==============================] - 10s 384ms/step - loss: 5.9610e-04 - accuracy: 1.0000 - val_loss: 0.0386 - val_accuracy: 0.9862\n",
            "Epoch 79/150\n",
            "25/25 [==============================] - 10s 379ms/step - loss: 0.0015 - accuracy: 0.9997 - val_loss: 8.4964e-04 - val_accuracy: 1.0000\n",
            "Epoch 80/150\n",
            "25/25 [==============================] - 9s 379ms/step - loss: 0.0019 - accuracy: 0.9994 - val_loss: 0.0524 - val_accuracy: 0.9912\n",
            "Epoch 81/150\n",
            "25/25 [==============================] - 9s 377ms/step - loss: 0.0030 - accuracy: 0.9994 - val_loss: 0.9227 - val_accuracy: 0.7900\n",
            "Epoch 82/150\n",
            "25/25 [==============================] - 10s 380ms/step - loss: 0.0128 - accuracy: 0.9968 - val_loss: 0.8098 - val_accuracy: 0.8100\n",
            "Epoch 83/150\n",
            "25/25 [==============================] - 9s 379ms/step - loss: 0.0083 - accuracy: 0.9972 - val_loss: 1.3723 - val_accuracy: 0.7188\n",
            "Epoch 84/150\n",
            "25/25 [==============================] - 9s 378ms/step - loss: 0.0378 - accuracy: 0.9877 - val_loss: 0.1510 - val_accuracy: 0.9575\n",
            "Epoch 85/150\n",
            "25/25 [==============================] - 9s 374ms/step - loss: 0.0116 - accuracy: 0.9956 - val_loss: 0.0820 - val_accuracy: 0.9800\n",
            "Epoch 86/150\n",
            "25/25 [==============================] - 9s 379ms/step - loss: 0.0195 - accuracy: 0.9946 - val_loss: 0.1871 - val_accuracy: 0.9525\n",
            "Epoch 87/150\n",
            "25/25 [==============================] - 9s 378ms/step - loss: 0.0182 - accuracy: 0.9956 - val_loss: 0.5618 - val_accuracy: 0.8600\n",
            "Epoch 88/150\n",
            "25/25 [==============================] - 9s 375ms/step - loss: 0.0120 - accuracy: 0.9978 - val_loss: 0.0146 - val_accuracy: 0.9962\n",
            "Epoch 89/150\n",
            "25/25 [==============================] - 9s 379ms/step - loss: 0.0032 - accuracy: 0.9987 - val_loss: 0.0164 - val_accuracy: 0.9925\n",
            "Epoch 90/150\n",
            "25/25 [==============================] - 9s 374ms/step - loss: 0.0069 - accuracy: 0.9987 - val_loss: 0.0113 - val_accuracy: 0.9962\n",
            "Epoch 91/150\n",
            "25/25 [==============================] - 10s 383ms/step - loss: 0.0028 - accuracy: 0.9991 - val_loss: 0.3253 - val_accuracy: 0.9237\n",
            "Epoch 92/150\n",
            "25/25 [==============================] - 10s 382ms/step - loss: 0.0022 - accuracy: 0.9991 - val_loss: 0.0090 - val_accuracy: 0.9975\n",
            "Epoch 93/150\n",
            "25/25 [==============================] - 9s 376ms/step - loss: 0.0026 - accuracy: 0.9984 - val_loss: 0.0208 - val_accuracy: 0.9975\n",
            "Epoch 94/150\n",
            "25/25 [==============================] - 9s 377ms/step - loss: 5.3077e-04 - accuracy: 1.0000 - val_loss: 0.0225 - val_accuracy: 0.9975\n",
            "Epoch 95/150\n",
            "25/25 [==============================] - 10s 383ms/step - loss: 0.0029 - accuracy: 0.9981 - val_loss: 0.0552 - val_accuracy: 0.9962\n",
            "Epoch 96/150\n",
            "25/25 [==============================] - 10s 382ms/step - loss: 8.0810e-04 - accuracy: 0.9997 - val_loss: 0.0799 - val_accuracy: 0.9850\n",
            "Epoch 97/150\n",
            "25/25 [==============================] - 10s 385ms/step - loss: 2.3875e-04 - accuracy: 1.0000 - val_loss: 0.0669 - val_accuracy: 0.9925\n",
            "Epoch 98/150\n",
            "25/25 [==============================] - 9s 376ms/step - loss: 5.5478e-04 - accuracy: 1.0000 - val_loss: 0.0544 - val_accuracy: 0.9950\n",
            "Epoch 99/150\n",
            "25/25 [==============================] - 9s 376ms/step - loss: 4.5704e-04 - accuracy: 0.9997 - val_loss: 0.0530 - val_accuracy: 0.9937\n",
            "Epoch 100/150\n",
            "25/25 [==============================] - 9s 377ms/step - loss: 1.5770e-04 - accuracy: 1.0000 - val_loss: 0.0526 - val_accuracy: 0.9925\n",
            "Epoch 101/150\n",
            "25/25 [==============================] - 9s 375ms/step - loss: 2.1919e-04 - accuracy: 1.0000 - val_loss: 0.0529 - val_accuracy: 0.9912\n",
            "Epoch 102/150\n",
            "25/25 [==============================] - 10s 390ms/step - loss: 0.0033 - accuracy: 0.9991 - val_loss: 0.0484 - val_accuracy: 0.9975\n",
            "Epoch 103/150\n",
            "25/25 [==============================] - 10s 382ms/step - loss: 0.0037 - accuracy: 0.9991 - val_loss: 0.0637 - val_accuracy: 0.9962\n",
            "Epoch 104/150\n",
            "25/25 [==============================] - 10s 380ms/step - loss: 0.0032 - accuracy: 0.9987 - val_loss: 0.0698 - val_accuracy: 0.9950\n",
            "Epoch 105/150\n",
            "25/25 [==============================] - 9s 378ms/step - loss: 0.0028 - accuracy: 0.9997 - val_loss: 0.0592 - val_accuracy: 0.9837\n",
            "Epoch 106/150\n",
            "25/25 [==============================] - 9s 374ms/step - loss: 0.0103 - accuracy: 0.9965 - val_loss: 0.1934 - val_accuracy: 0.9812\n",
            "Epoch 107/150\n",
            "25/25 [==============================] - 10s 411ms/step - loss: 0.0188 - accuracy: 0.9937 - val_loss: 0.0214 - val_accuracy: 0.9950\n",
            "Epoch 108/150\n",
            "25/25 [==============================] - 9s 377ms/step - loss: 0.0040 - accuracy: 0.9984 - val_loss: 1.0356 - val_accuracy: 0.8687\n",
            "Epoch 109/150\n",
            "25/25 [==============================] - 9s 377ms/step - loss: 0.0030 - accuracy: 0.9991 - val_loss: 0.1187 - val_accuracy: 0.9762\n",
            "Epoch 110/150\n",
            "25/25 [==============================] - 10s 382ms/step - loss: 0.0027 - accuracy: 0.9991 - val_loss: 0.1084 - val_accuracy: 0.9825\n",
            "Epoch 111/150\n",
            "25/25 [==============================] - 10s 380ms/step - loss: 0.0022 - accuracy: 0.9994 - val_loss: 0.0983 - val_accuracy: 0.9862\n",
            "Epoch 112/150\n",
            "25/25 [==============================] - 9s 376ms/step - loss: 0.0046 - accuracy: 0.9984 - val_loss: 0.8358 - val_accuracy: 0.8775\n",
            "Epoch 113/150\n",
            "25/25 [==============================] - 9s 375ms/step - loss: 0.0033 - accuracy: 0.9994 - val_loss: 0.0174 - val_accuracy: 0.9975\n",
            "Epoch 114/150\n",
            "25/25 [==============================] - 10s 383ms/step - loss: 4.5436e-04 - accuracy: 1.0000 - val_loss: 0.0099 - val_accuracy: 0.9975\n",
            "Epoch 115/150\n",
            "25/25 [==============================] - 9s 376ms/step - loss: 5.9641e-04 - accuracy: 1.0000 - val_loss: 0.0060 - val_accuracy: 0.9975\n",
            "Epoch 116/150\n",
            "25/25 [==============================] - 10s 381ms/step - loss: 0.0031 - accuracy: 0.9997 - val_loss: 0.0096 - val_accuracy: 0.9975\n",
            "Epoch 117/150\n",
            "25/25 [==============================] - 10s 382ms/step - loss: 2.4168e-04 - accuracy: 1.0000 - val_loss: 0.0157 - val_accuracy: 0.9962\n",
            "Epoch 118/150\n",
            "25/25 [==============================] - 10s 385ms/step - loss: 0.0052 - accuracy: 0.9987 - val_loss: 0.0388 - val_accuracy: 0.9975\n",
            "Epoch 119/150\n",
            "25/25 [==============================] - 10s 388ms/step - loss: 0.0040 - accuracy: 0.9981 - val_loss: 0.0122 - val_accuracy: 0.9937\n",
            "Epoch 120/150\n",
            "25/25 [==============================] - 10s 388ms/step - loss: 0.0012 - accuracy: 0.9997 - val_loss: 0.0015 - val_accuracy: 1.0000\n",
            "Epoch 121/150\n",
            "25/25 [==============================] - 10s 384ms/step - loss: 7.4414e-04 - accuracy: 0.9997 - val_loss: 0.0053 - val_accuracy: 0.9975\n",
            "Epoch 122/150\n",
            "25/25 [==============================] - 10s 386ms/step - loss: 7.5564e-04 - accuracy: 0.9997 - val_loss: 0.0055 - val_accuracy: 0.9975\n",
            "Epoch 123/150\n",
            "25/25 [==============================] - 10s 383ms/step - loss: 5.2851e-04 - accuracy: 0.9997 - val_loss: 0.0037 - val_accuracy: 0.9975\n",
            "Epoch 124/150\n",
            "25/25 [==============================] - 10s 380ms/step - loss: 0.0021 - accuracy: 0.9997 - val_loss: 0.0404 - val_accuracy: 0.9862\n",
            "Epoch 125/150\n",
            "25/25 [==============================] - 10s 386ms/step - loss: 3.3089e-04 - accuracy: 1.0000 - val_loss: 0.0363 - val_accuracy: 0.9912\n",
            "Epoch 126/150\n",
            "25/25 [==============================] - 10s 383ms/step - loss: 3.2275e-04 - accuracy: 1.0000 - val_loss: 0.0489 - val_accuracy: 0.9887\n",
            "Epoch 127/150\n",
            "25/25 [==============================] - 10s 384ms/step - loss: 8.8800e-05 - accuracy: 1.0000 - val_loss: 0.0291 - val_accuracy: 0.9925\n",
            "Epoch 128/150\n",
            "25/25 [==============================] - 10s 380ms/step - loss: 6.6769e-05 - accuracy: 1.0000 - val_loss: 0.0266 - val_accuracy: 0.9900\n",
            "Epoch 129/150\n",
            "25/25 [==============================] - 10s 387ms/step - loss: 6.1232e-05 - accuracy: 1.0000 - val_loss: 0.0265 - val_accuracy: 0.9900\n",
            "Epoch 130/150\n",
            "25/25 [==============================] - 10s 382ms/step - loss: 8.3597e-05 - accuracy: 1.0000 - val_loss: 0.0274 - val_accuracy: 0.9900\n",
            "Epoch 131/150\n",
            "25/25 [==============================] - 10s 382ms/step - loss: 2.1082e-04 - accuracy: 1.0000 - val_loss: 0.0831 - val_accuracy: 0.9837\n",
            "Epoch 132/150\n",
            "25/25 [==============================] - 9s 374ms/step - loss: 2.6270e-04 - accuracy: 1.0000 - val_loss: 0.0390 - val_accuracy: 0.9875\n",
            "Epoch 133/150\n",
            "25/25 [==============================] - 10s 384ms/step - loss: 3.3937e-04 - accuracy: 0.9997 - val_loss: 0.0916 - val_accuracy: 0.9862\n",
            "Epoch 134/150\n",
            "25/25 [==============================] - 10s 392ms/step - loss: 0.0022 - accuracy: 0.9994 - val_loss: 0.0044 - val_accuracy: 0.9975\n",
            "Epoch 135/150\n",
            "25/25 [==============================] - 10s 391ms/step - loss: 3.5243e-04 - accuracy: 1.0000 - val_loss: 9.5067e-05 - val_accuracy: 1.0000\n",
            "Epoch 136/150\n",
            "25/25 [==============================] - 10s 380ms/step - loss: 0.0027 - accuracy: 0.9994 - val_loss: 0.0193 - val_accuracy: 0.9975\n",
            "Epoch 137/150\n",
            "25/25 [==============================] - 10s 383ms/step - loss: 0.0112 - accuracy: 0.9975 - val_loss: 0.3981 - val_accuracy: 0.9000\n",
            "Epoch 138/150\n",
            "25/25 [==============================] - 10s 416ms/step - loss: 0.0123 - accuracy: 0.9968 - val_loss: 6.0841 - val_accuracy: 0.4425\n",
            "Epoch 139/150\n",
            "25/25 [==============================] - 10s 384ms/step - loss: 0.0120 - accuracy: 0.9968 - val_loss: 4.7194 - val_accuracy: 0.4688\n",
            "Epoch 140/150\n",
            "25/25 [==============================] - 10s 379ms/step - loss: 0.0350 - accuracy: 0.9909 - val_loss: 2.3640 - val_accuracy: 0.7613\n",
            "Epoch 141/150\n",
            "25/25 [==============================] - 9s 378ms/step - loss: 0.0301 - accuracy: 0.9915 - val_loss: 15.8234 - val_accuracy: 0.2825\n",
            "Epoch 142/150\n",
            "25/25 [==============================] - 10s 383ms/step - loss: 0.0089 - accuracy: 0.9972 - val_loss: 4.9465 - val_accuracy: 0.5950\n",
            "Epoch 143/150\n",
            "25/25 [==============================] - 10s 385ms/step - loss: 0.0031 - accuracy: 0.9994 - val_loss: 3.5322 - val_accuracy: 0.6737\n",
            "Epoch 144/150\n",
            "25/25 [==============================] - 10s 382ms/step - loss: 0.0086 - accuracy: 0.9975 - val_loss: 0.4488 - val_accuracy: 0.9025\n",
            "Epoch 145/150\n",
            "25/25 [==============================] - 9s 377ms/step - loss: 0.0026 - accuracy: 0.9997 - val_loss: 0.6163 - val_accuracy: 0.8825\n",
            "Epoch 146/150\n",
            "25/25 [==============================] - 9s 377ms/step - loss: 0.0047 - accuracy: 0.9994 - val_loss: 0.0357 - val_accuracy: 0.9862\n",
            "Epoch 147/150\n",
            "25/25 [==============================] - 10s 387ms/step - loss: 0.0081 - accuracy: 0.9981 - val_loss: 0.0436 - val_accuracy: 0.9900\n",
            "Epoch 148/150\n",
            "25/25 [==============================] - 9s 375ms/step - loss: 0.0020 - accuracy: 0.9991 - val_loss: 0.0037 - val_accuracy: 0.9987\n",
            "Epoch 149/150\n",
            "25/25 [==============================] - 9s 374ms/step - loss: 0.0012 - accuracy: 1.0000 - val_loss: 4.1534e-04 - val_accuracy: 1.0000\n",
            "Epoch 150/150\n",
            "25/25 [==============================] - 9s 376ms/step - loss: 6.8482e-04 - accuracy: 0.9997 - val_loss: 4.2768e-04 - val_accuracy: 1.0000\n"
          ]
        }
      ]
    },
    {
      "cell_type": "markdown",
      "source": [
        "**KIỂM ĐỊNH ĐỘ CHÍNH XÁC TRONG KHI TRAIN**"
      ],
      "metadata": {
        "id": "g3Lgf0YQwB1Q"
      }
    },
    {
      "cell_type": "code",
      "source": [
        "import matplotlib.pyplot as plt \n",
        "%matplotlib inline\n",
        "\n",
        "# print(history.history.keys())\n",
        "## Plot Accuracy\n",
        "plt.plot(history.history[\"accuracy\"])\n",
        "plt.plot(history.history[\"val_accuracy\"])\n",
        "plt.title(\"Model Accuracy\")\n",
        "plt.ylabel(\"Accuracy\")\n",
        "plt.xlabel(\"Epoch\")\n",
        "plt.legend([\"train\", \"validation\"], loc = \"upper left\")\n",
        "plt.savefig(\"accuracy.png\", dpi = 300)\n",
        "plt.show()"
      ],
      "metadata": {
        "colab": {
          "base_uri": "https://localhost:8080/",
          "height": 295
        },
        "id": "z2fi_3xxElhZ",
        "outputId": "8396bd11-1c15-45a4-8ee7-b10013e44588"
      },
      "execution_count": null,
      "outputs": [
        {
          "output_type": "display_data",
          "data": {
            "text/plain": [
              "<Figure size 432x288 with 1 Axes>"
            ],
            "image/png": "[encoded data removed]"
          },
          "metadata": {
            "needs_background": "light"
          }
        }
      ]
    },
    {
      "cell_type": "markdown",
      "source": [
        " **KIỂM ĐỊNH ĐỘ MẤT MÁT TRONG KHI TRAIN**"
      ],
      "metadata": {
        "id": "iVe-KMTlwPvo"
      }
    },
    {
      "cell_type": "code",
      "source": [
        "## Plot Loss\n",
        "plt.plot(history.history[\"loss\"])\n",
        "plt.plot(history.history[\"val_loss\"])\n",
        "plt.title(\"Model Loss Value\")\n",
        "plt.ylabel(\"Loss\")\n",
        "plt.xlabel(\"Epoch\")\n",
        "plt.legend([\"train\", \"validation\"], loc = \"upper left\")\n",
        "plt.savefig(\"loss.png\", dpi = 300)\n",
        "plt.show()"
      ],
      "metadata": {
        "colab": {
          "base_uri": "https://localhost:8080/",
          "height": 295
        },
        "id": "Px0sYmcvEmqX",
        "outputId": "20f4d339-fbb1-41fd-89bd-95549fe62c16"
      },
      "execution_count": null,
      "outputs": [
        {
          "output_type": "display_data",
          "data": {
            "text/plain": [
              "<Figure size 432x288 with 1 Axes>"
            ],
            "image/png": "[encoded data removed]"
          },
          "metadata": {
            "needs_background": "light"
          }
        }
      ]
    },
    {
      "cell_type": "markdown",
      "source": [
        "**SAVE FILE WEIGHT**"
      ],
      "metadata": {
        "id": "NebPtfr2ww6o"
      }
    },
    {
      "cell_type": "code",
      "source": [
        "#Saving the  model \n",
        "fer_json = model.to_json()  \n",
        "with open(\"fer.json\", \"w\") as json_file:  \n",
        "  json_file.write(fer_json)  \n",
        "model.save_weights(\"weight.h5\")  "
      ],
      "metadata": {
        "id": "-WdKqoRK57q9"
      },
      "execution_count": 8,
      "outputs": []
    },
    {
      "cell_type": "markdown",
      "source": [
        "**SAVE MODEL SAU KHI TRAIN XONG**\n",
        "\n",
        "\n"
      ],
      "metadata": {
        "id": "xJbSZDvZw08J"
      }
    },
    {
      "cell_type": "code",
      "source": [
        "model.save('disease.h5')"
      ],
      "metadata": {
        "id": "l4grOeeL8vJd"
      },
      "execution_count": 9,
      "outputs": []
    },
    {
      "cell_type": "markdown",
      "source": [
        "**ĐƯA LÁ LÚA BỊ BỆNH LEAF SMUT VÀO ĐỂ TEST MODEL**"
      ],
      "metadata": {
        "id": "L8nLTWmyw-G3"
      }
    },
    {
      "cell_type": "code",
      "source": [
        "from tensorflow.keras.utils import load_img, img_to_array\n",
        "import numpy as np\n",
        "import matplotlib.pyplot as plt\n",
        "filename = \"/content/drive/MyDrive/DỮ LIỆU_PROJECT_AI_CUỐI_KÌ_official/DATASETS_project_AI_cuối_kì/DATASETS_project_AI_cuối_kì/test_rice-leaf-disease/Leaf smut/Leaf_smut_original_DSC_0314.JPG_b52b3dea-991d-4b25-bf4f-5b94813a0c40.JPG\"\n",
        "\n",
        "img = load_img(filename,target_size=(64,64))\n",
        "img_show = plt.imshow(img)\n",
        "plt.show()\n",
        "img = img_to_array(img)\n",
        "img = img.reshape(1,64,64,3)\n",
        "img = img.astype('float32')\n",
        "img = img/255\n",
        "kq=np.argmax(model.predict(img),axis=-1)\n",
        "if(kq==0):\n",
        "    print(\"bacterial leaf blight\")\n",
        "if(kq==1):\n",
        "    print(\"brown spot\")\n",
        "if(kq==2):\n",
        "    print(\"Healthy\")\n",
        "if(kq==3):\n",
        "    print(\"Leaf smut\")"
      ],
      "metadata": {
        "colab": {
          "base_uri": "https://localhost:8080/",
          "height": 286
        },
        "id": "tP2anaNzdmh4",
        "outputId": "f0cd761d-0474-4192-9f05-aa5fc3be991f"
      },
      "execution_count": 12,
      "outputs": [
        {
          "output_type": "display_data",
          "data": {
            "text/plain": [
              "<Figure size 432x288 with 1 Axes>"
            ],
            "image/png": "[encoded data removed]"
          },
          "metadata": {
            "needs_background": "light"
          }
        },
        {
          "output_type": "stream",
          "name": "stdout",
          "text": [
            "Leaf smut\n"
          ]
        }
      ]
    },
    {
      "cell_type": "markdown",
      "source": [
        "**ĐƯA LÁ LÚA KHOẺ MẠNH VÀO ĐỂ TEST MODEL**"
      ],
      "metadata": {
        "id": "noejAPNLxXjR"
      }
    },
    {
      "cell_type": "code",
      "source": [
        "from tensorflow.keras.utils import load_img, img_to_array\n",
        "import numpy as np\n",
        "import matplotlib.pyplot as plt\n",
        "filename = \"/content/drive/MyDrive/DỮ LIỆU_PROJECT_AI_CUỐI_KÌ_official/DATASETS_project_AI_cuối_kì/DATASETS_project_AI_cuối_kì/test_rice-leaf-disease/Health/Health_original_IMG_20190419_095646.jpg_ec0f6869-539f-4048-8b68-7ea7824723a5.jpg\"\n",
        "\n",
        "img = load_img(filename,target_size=(64,64))\n",
        "img_show = plt.imshow(img)\n",
        "plt.show()\n",
        "img = img_to_array(img)\n",
        "img = img.reshape(1,64,64,3)\n",
        "img = img.astype('float32')\n",
        "img = img/255\n",
        "kq=np.argmax(model.predict(img),axis=-1)\n",
        "if(kq==0):\n",
        "    print(\"bacterial leaf blight\")\n",
        "if(kq==1):\n",
        "    print(\"brown spot\")\n",
        "if(kq==2):\n",
        "    print(\"Healthy\")\n",
        "if(kq==3):\n",
        "    print(\"Leaf smut\")"
      ],
      "metadata": {
        "colab": {
          "base_uri": "https://localhost:8080/",
          "height": 286
        },
        "id": "x5zt7OChdoff",
        "outputId": "fba63cdf-e513-4c50-a32b-29c832fa5a42"
      },
      "execution_count": 11,
      "outputs": [
        {
          "output_type": "display_data",
          "data": {
            "text/plain": [
              "<Figure size 432x288 with 1 Axes>"
            ],
            "image/png": "[encoded data removed]"
          },
          "metadata": {
            "needs_background": "light"
          }
        },
        {
          "output_type": "stream",
          "name": "stdout",
          "text": [
            "Healthy\n"
          ]
        }
      ]
    },
    {
      "cell_type": "markdown",
      "source": [
        "**ĐƯA LÁ LÚA BỊ BỆNH BROWN SPOT VÀO ĐỂ TEST MODEL**"
      ],
      "metadata": {
        "id": "A9OPdac-xiFx"
      }
    },
    {
      "cell_type": "code",
      "source": [
        "from tensorflow.keras.utils import load_img, img_to_array\n",
        "import numpy as np\n",
        "import matplotlib.pyplot as plt\n",
        "filename = \"/content/drive/MyDrive/DỮ LIỆU_PROJECT_AI_CUỐI_KÌ_official/DATASETS_project_AI_cuối_kì/DATASETS_project_AI_cuối_kì/test_rice-leaf-disease/Brown spot/Brown_spot_original_DSC_0100.jpg_0cd8a7b9-d04a-4e70-898f-3a278e868835.jpg\"\n",
        "\n",
        "img = load_img(filename,target_size=(64,64))\n",
        "img_show = plt.imshow(img)\n",
        "plt.show()\n",
        "img = img_to_array(img)\n",
        "img = img.reshape(1,64,64,3)\n",
        "img = img.astype('float32')\n",
        "img = img/255\n",
        "kq=np.argmax(model.predict(img),axis=-1)\n",
        "if(kq==0):\n",
        "    print(\"bacterial leaf blight\")\n",
        "if(kq==1):\n",
        "    print(\"brown spot\")\n",
        "if(kq==2):\n",
        "    print(\"Healthy\")\n",
        "if(kq==3):\n",
        "    print(\"Leaf smut\")"
      ],
      "metadata": {
        "colab": {
          "base_uri": "https://localhost:8080/",
          "height": 286
        },
        "id": "ZuKH73MldxXE",
        "outputId": "fc69e11e-fc03-41ec-9b8f-8977e1742b23"
      },
      "execution_count": 10,
      "outputs": [
        {
          "output_type": "display_data",
          "data": {
            "text/plain": [
              "<Figure size 432x288 with 1 Axes>"
            ],
            "image/png": "[encoded data removed]"
          },
          "metadata": {
            "needs_background": "light"
          }
        },
        {
          "output_type": "stream",
          "name": "stdout",
          "text": [
            "brown spot\n"
          ]
        }
      ]
    },
    {
      "cell_type": "markdown",
      "source": [
        "**ĐƯA BỆNH BACTERIAL LEAF BRIGHT VÀO ĐỂ TEST MODEL**"
      ],
      "metadata": {
        "id": "JtdRMVO0ygc-"
      }
    },
    {
      "cell_type": "code",
      "source": [
        "from tensorflow.keras.utils import load_img, img_to_array\n",
        "import numpy as np\n",
        "import matplotlib.pyplot as plt\n",
        "filename = \"/content/drive/MyDrive/DỮ LIỆU_PROJECT_AI_CUỐI_KÌ_official/DATASETS_project_AI_cuối_kì/DATASETS_project_AI_cuối_kì/test_rice-leaf-disease/Bacterial leaf blight/Bacterial_leaf_blight_original_DSC_0365.JPG_0fb201f3-4ea3-4f93-b143-223e34d2d3f9.JPG\"\n",
        "\n",
        "img = load_img(filename,target_size=(64,64))\n",
        "img_show = plt.imshow(img)\n",
        "plt.show()\n",
        "img = img_to_array(img)\n",
        "img = img.reshape(1,64,64,3)\n",
        "img = img.astype('float32')\n",
        "img = img/255\n",
        "kq=np.argmax(model.predict(img),axis=-1)\n",
        "if(kq==0):\n",
        "    print(\"bacterial leaf blight\")\n",
        "if(kq==1):\n",
        "    print(\"brown spot\")\n",
        "if(kq==2):\n",
        "    print(\"Healthy\")\n",
        "if(kq==3):\n",
        "    print(\"Leaf smut\")"
      ],
      "metadata": {
        "colab": {
          "base_uri": "https://localhost:8080/",
          "height": 286
        },
        "id": "x1VXLF1weALL",
        "outputId": "e0bd9071-ed91-4287-d14e-7dd4b4282587"
      },
      "execution_count": 13,
      "outputs": [
        {
          "output_type": "display_data",
          "data": {
            "text/plain": [
              "<Figure size 432x288 with 1 Axes>"
            ],
            "image/png": "[encoded data removed]"
          },
          "metadata": {
            "needs_background": "light"
          }
        },
        {
          "output_type": "stream",
          "name": "stdout",
          "text": [
            "bacterial leaf blight\n"
          ]
        }
      ]
    }
  ]
}